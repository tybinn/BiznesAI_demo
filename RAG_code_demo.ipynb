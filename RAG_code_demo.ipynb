{
  "cells": [
    {
      "cell_type": "code",
      "execution_count": null,
      "metadata": {
        "colab": {
          "base_uri": "https://localhost:8080/"
        },
        "id": "oU4LF2jLOMYw",
        "outputId": "81941d93-5cca-4914-da7d-a3d5beddcab7"
      },
      "outputs": [],
      "source": [
        "# instalacja i import bibliotek\n",
        "\n",
        "#!pip install langchain_community\n",
        "#!pip install chromadb\n",
        "\n",
        "import os\n",
        "from pathlib import Path\n",
        "from langchain_core.documents import Document\n",
        "from langchain_core.runnables import RunnableMap, RunnableLambda\n",
        "from langchain_core.output_parsers import StrOutputParser\n",
        "\n",
        "from langchain_community.vectorstores import Chroma\n",
        "from langchain_community.embeddings import OllamaEmbeddings\n",
        "from langchain_community.llms import Ollama\n",
        "from langchain_community.document_loaders import DirectoryLoader, TextLoader, PyPDFLoader\n",
        "from langchain.text_splitter import RecursiveCharacterTextSplitter"
      ]
    },
    {
      "cell_type": "code",
      "execution_count": null,
      "metadata": {
        "id": "KyX3O4dTtv2h"
      },
      "outputs": [],
      "source": [
        "#zmienne srodowiskowe\n",
        "model_name = \"speakleash/Bielik-11B-v2.3-Instruct:Q4_K_M\" #\"SpeakLeash/bielik-11b-v2.3-instruct:Q4_k_M\" #\"mistral\"\n",
        "embedding_model_name = \"speakleash/Bielik-11B-v2.3-Instruct:Q4_K_M\" #\"ipipan/silver-retriever-base-v1.1\" #\"mistral\"\n",
        "#folder_path = \"/content/dokumenty_rag_demo\"\n",
        "folder_path = \"F:\\BusinessAI\\Projekt koncowy\\Materialy\\data4ragPL\"\n",
        "hello_msg = \"Witaj, z tej strony techniczny asysten AI firmy vet-eye. W czym mogę Ci pomóc?\""
      ]
    },
    {
      "cell_type": "code",
      "execution_count": null,
      "metadata": {
        "id": "AqyY4X3qnSf1"
      },
      "outputs": [],
      "source": [
        "#funkcja pozwalająca na wczytanie plików - intersują nas pliki tekstowe i pdf\n",
        "def load_documents(folder_path: str):\n",
        "    loader_txt = DirectoryLoader(\n",
        "        folder_path,\n",
        "        glob=\"**/*.txt\",\n",
        "        loader_cls=TextLoader,\n",
        "        loader_kwargs={\"encoding\": \"utf-8\"},\n",
        "        recursive=True\n",
        "    )\n",
        "    loader_pdf = DirectoryLoader(\n",
        "        folder_path,\n",
        "        glob=\"**/*.pdf\",\n",
        "        loader_cls=PyPDFLoader,\n",
        "        recursive=True\n",
        "    )\n",
        "    return loader_txt.load() + loader_pdf.load()"
      ]
    },
    {
      "cell_type": "code",
      "execution_count": null,
      "metadata": {
        "id": "dHGzjqjgrnbp"
      },
      "outputs": [],
      "source": [
        "#funkcja dzieląca dokumenty na chunki\n",
        "def split_documents(documents):\n",
        "    splitter = RecursiveCharacterTextSplitter(chunk_size=500, chunk_overlap=50)\n",
        "    return splitter.split_documents(documents)\n",
        "\n",
        "#funkcja zwracająca embeddingi i baze wektorową\n",
        "def build_vectorstore(documents):\n",
        "    embeddings = OllamaEmbeddings(model=embedding_model_name)\n",
        "    return Chroma.from_documents(documents, embeddings)\n",
        "\n",
        "#funkcja przeszukująca bazę wektorową\n",
        "def get_retriever(vectorstore):\n",
        "    return vectorstore.as_retriever(search_kwargs={\"k\": 4})"
      ]
    },
    {
      "cell_type": "code",
      "execution_count": null,
      "metadata": {
        "id": "xsBCoWewtlbc"
      },
      "outputs": [],
      "source": [
        "# budujemy RAG'a\n",
        "def build_rag_chain(retriever, llm):\n",
        "    # Pipeline: input --> query --> dokumenty --> prompt --> LLM --> output --> add info about AI gen content\n",
        "\n",
        "    #obieranie dokumentów\n",
        "    retrieve_docs = RunnableLambda(lambda query: {\"docs\": retriever.get_relevant_documents(query), \"question\": query})\n",
        "\n",
        "    #Łączenie dokumentów i pytania w prompt\n",
        "    def format_prompt(inputs):\n",
        "        docs = \"\\n\\n\".join([doc.page_content for doc in inputs[\"docs\"]])\n",
        "        prompt = f\"### Zadanie: \\n Jesteś asystentem technicznym, udzielającym wsparcia pierwszego kontaktu dla produktów vet-eye. Odpowiadaj na zapytanie użytkownika, korzystając z dostarczonego kontekstu, włączając cytowania w formacie [source_id] tylko wtedy, gdy w kontekście znajduje się znacznik <source_id>. \\n\\n### Wytyczne:\\n- Jeśli nie znasz odpowiedzi, wyraźnie to zaznacz.\\n- Jeśli nie jesteś pewien, poproś użytkownika o doprecyzowanie.\\n- Odpowiadaj w tym samym języku, w którym sformułowane zostało zapytanie użytkownika.\\n- Jeśli kontekst jest nieczytelny lub słabej jakości, poinformuj o tym użytkownika i udziel możliwie najlepszej odpowiedzi.\\n- Jeśli odpowiedź nie znajduje się w kontekście, ale posiadasz wiedzę na ten temat, poinformuj o tym użytkownika i udziel odpowiedzi w oparciu o własne zrozumienie.\\n- Cytowania w formacie [source_id] umieszczaj wyłącznie, jeśli w kontekście występuje znacznik <source_id>.\\n- Nie dodawaj cytowań, jeśli nie ma podanego znacznika <source_id> w kontekście.\\n- Nie używaj znaczników XML w odpowiedzi.\\n- Cytowania powinny być zwięzłe i odnosić się bezpośrednio do podanych informacji.\\n\\n### Przykład cytowania:\\nJeśli użytkownik zapyta o konkretny temat, a informacja znajduje się w \\\"whitepaper.pdf\\\" z podanym <source_id>, \\nodpowiedź powinna wyglądać następująco:\\n\\n„Zgodnie z badaniem, proponowana metoda zwiększa wydajność o 20% [whitepaper.pdf].”\\nJeśli znacznik <source_id> nie został podany, nie należy dołączać cytowania.\\n\\n### Wynik:\\nUdziel jasnej i konkretnej odpowiedzi na zapytanie użytkownika, wstawiając cytowania w formacie [source_id] tylko wtedy, gdy w kontekście znajduje się znacznik <source_id>. Na koniec wypowiedzi dodaj informację, że odpowiedź została wygenerowana przez sztuczną inteligencję. Pytanie: {inputs['question']} Kontekst: \\n\\n{docs}\\n\\n\"\n",
        "        #prompt = f\"Na podstawie poniższych dokumentów, odpowiedz na pytanie:\\n\\n{docs}\\n\\nPytanie: {inputs['question']}\"\n",
        "        return prompt\n",
        "\n",
        "    prompt_formatter = RunnableLambda(format_prompt)\n",
        "\n",
        "    #llm z parserem odpowiedzi\n",
        "    llm_chain = llm | StrOutputParser()\n",
        "\n",
        "    add_signature = RunnableLambda(\n",
        "        lambda text: text + \"\\n\\nTekst został wygenerowany przy użyciu AI.\"\n",
        "    )\n",
        "    #zwracamy caly pipline\n",
        "    return retrieve_docs | prompt_formatter | llm_chain | add_signature"
      ]
    },
    {
      "cell_type": "code",
      "execution_count": null,
      "metadata": {
        "colab": {
          "base_uri": "https://localhost:8080/",
          "height": 738
        },
        "id": "NnWM74YBu4jr",
        "outputId": "10d645df-8efb-42c6-eac7-c9c8195da25c"
      },
      "outputs": [],
      "source": [
        "#składamy wszystko w całość\n",
        "def main():\n",
        "    print(\"uruchamianie...\")\n",
        "    raw_docs = load_documents(folder_path)\n",
        "    split_docs = split_documents(raw_docs)\n",
        "    vectorstore = build_vectorstore(split_docs)\n",
        "    retriever = get_retriever(vectorstore)\n",
        "    llm = Ollama(model=model_name)\n",
        "    rag_chain = build_rag_chain(retriever, llm)\n",
        "\n",
        "    print(hello_msg)\n",
        "    while True:\n",
        "        query = input(\"> \")\n",
        "        if query.lower() in (\"exit\", \"quit\"):\n",
        "            print(\"Żegnaj!\")\n",
        "            break\n",
        "\n",
        "        response = rag_chain.invoke(query)\n",
        "        print(response)\n",
        "        print(\"—\" * 40)\n",
        "\n",
        "if __name__ == \"__main__\":\n",
        "    main()"
      ]
    }
  ],
  "metadata": {
    "colab": {
      "provenance": []
    },
    "kernelspec": {
      "display_name": "base",
      "language": "python",
      "name": "python3"
    },
    "language_info": {
      "codemirror_mode": {
        "name": "ipython",
        "version": 3
      },
      "file_extension": ".py",
      "mimetype": "text/x-python",
      "name": "python",
      "nbconvert_exporter": "python",
      "pygments_lexer": "ipython3",
      "version": "3.11.7"
    }
  },
  "nbformat": 4,
  "nbformat_minor": 0
}
